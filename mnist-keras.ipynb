{
 "cells": [
  {
   "cell_type": "markdown",
   "metadata": {},
   "source": [
    "# MNIST handwritten digit recognition in Keras"
   ]
  },
  {
   "cell_type": "markdown",
   "metadata": {},
   "source": [
    "# Data preprocessing"
   ]
  },
  {
   "cell_type": "markdown",
   "metadata": {},
   "source": [
    "## Import dependencies"
   ]
  },
  {
   "cell_type": "code",
   "execution_count": 1,
   "metadata": {},
   "outputs": [],
   "source": [
    "# pip install keras\n",
    "import keras\n",
    "from keras.models import Sequential\n",
    "from keras.layers import Dense,Dropout,Activation\n",
    "from keras.optimizers import SGD \n",
    "from keras.datasets import mnist"
   ]
  },
  {
   "cell_type": "markdown",
   "metadata": {},
   "source": [
    "## Load the data"
   ]
  },
  {
   "cell_type": "code",
   "execution_count": 2,
   "metadata": {},
   "outputs": [
    {
     "name": "stdout",
     "output_type": "stream",
     "text": [
      "Training data shape: (60000, 28, 28)\n",
      "Test data shape: (10000, 28, 28)\n"
     ]
    }
   ],
   "source": [
    "# Load Mnist data (train and test sets)\n",
    "(x_train,y_train), (x_test,y_test) = mnist.load_data()\n",
    "print(f\"Training data shape: {x_train.shape}\") # (60000, 28, 28) −− 60000 images , each 28x28 pixels\n",
    "print(f\"Test data shape: {x_test.shape}\") # (10000, 28, 28) −− 10000 images , each 28x28"
   ]
  },
  {
   "cell_type": "markdown",
   "metadata": {},
   "source": [
    "## reshape and cast the data"
   ]
  },
  {
   "cell_type": "code",
   "execution_count": 3,
   "metadata": {},
   "outputs": [],
   "source": [
    "# For Multi−Layer Perceptrons input dimension 13 # has to be a vector but the loaded MNIST\n",
    "# images are matrices with dimension 28 x 28 15 #−> we need to flatten them (i.e. reshape them into vectors )\n",
    "# matrix: 28 x 28 −−> vector: 1 x 784\n",
    "x_train = x_train.reshape(x_train.shape[0],784)\n",
    "x_test = x_test.reshape(x_test.shape[0], 784)\n",
    "# cast datasets to float\n",
    "x_train = x_train.astype(\"float32\")\n",
    "x_test = x_test.astype(\"float32\")"
   ]
  },
  {
   "cell_type": "markdown",
   "metadata": {},
   "source": [
    "## normalize the datset and one-hot-encode the label vectors"
   ]
  },
  {
   "cell_type": "code",
   "execution_count": 4,
   "metadata": {},
   "outputs": [],
   "source": [
    "# normalizing data to enable training\n",
    "x_train /= 255 # 255 because of grayscale values\n",
    "x_test /= 255\n",
    "# one−hot encoding , i .e.\n",
    "# Number 3 −> [0,0,0,1,0,0,0,0,0]\n",
    "# there are ten different classes to predict (0-9) including 9\n",
    "y_train = keras.utils.to_categorical(y_train,10)\n",
    "y_test = keras.utils.to_categorical(y_test,10)"
   ]
  },
  {
   "cell_type": "markdown",
   "metadata": {},
   "source": [
    "# Building the model"
   ]
  },
  {
   "cell_type": "markdown",
   "metadata": {},
   "source": [
    "## define the network architecture (set the hyperparameters)"
   ]
  },
  {
   "cell_type": "code",
   "execution_count": 5,
   "metadata": {},
   "outputs": [],
   "source": [
    "# building the model itself\n",
    "# Sequential model to sequentially add layers\n",
    "# Dense layer == hidden layer\n",
    "model = Sequential()\n",
    "# add the first hidden layer, \n",
    "# with ReLU activation function, \n",
    "#512 neurons \n",
    "#and inputs of shape (1,784) --> 28x28 pixel images\n",
    "model.add(Dense(512, activation = \"relu\",input_dim = 784))\n",
    "# add a Dropout (deactivate random nodes) for the first hidden layer (deactivate a quarter of all outputs)\n",
    "# this prevents overfitting\n",
    "model.add(Dropout(0.25))\n",
    "# add a second layer with the same Dropout\n",
    "model.add(Dense(512, activation = \"relu\"))\n",
    "model.add(Dropout(0.25))\n",
    "# output layer for classification --> softmax gives probability for each class\n",
    "model.add(Dense(10, activation = \"softmax\"))\n",
    "# define the optimizer (learning algorithm) and the learning rate\n",
    "sgd=SGD(lr=0.01)"
   ]
  },
  {
   "cell_type": "markdown",
   "metadata": {},
   "source": [
    "## specify the loss function and the evaluation metrics \n"
   ]
  },
  {
   "cell_type": "code",
   "execution_count": 6,
   "metadata": {},
   "outputs": [],
   "source": [
    "model.compile(loss=\"categorical_crossentropy\",\n",
    "optimizer = sgd,\n",
    "metrics = [\"accuracy\"])"
   ]
  },
  {
   "cell_type": "markdown",
   "metadata": {},
   "source": [
    "# Train the model"
   ]
  },
  {
   "cell_type": "code",
   "execution_count": 7,
   "metadata": {},
   "outputs": [
    {
     "name": "stdout",
     "output_type": "stream",
     "text": [
      "Epoch 1/10\n",
      "600/600 [==============================] - 1s 2ms/step - loss: 1.6223 - accuracy: 0.5311\n",
      "Epoch 2/10\n",
      "600/600 [==============================] - 1s 2ms/step - loss: 0.5455 - accuracy: 0.8440\n",
      "Epoch 3/10\n",
      "600/600 [==============================] - 1s 2ms/step - loss: 0.4208 - accuracy: 0.8758\n",
      "Epoch 4/10\n",
      "600/600 [==============================] - 1s 2ms/step - loss: 0.3731 - accuracy: 0.8918\n",
      "Epoch 5/10\n",
      "600/600 [==============================] - 1s 2ms/step - loss: 0.3371 - accuracy: 0.9016\n",
      "Epoch 6/10\n",
      "600/600 [==============================] - 1s 2ms/step - loss: 0.3095 - accuracy: 0.9081\n",
      "Epoch 7/10\n",
      "600/600 [==============================] - 1s 2ms/step - loss: 0.2890 - accuracy: 0.9153\n",
      "Epoch 8/10\n",
      "600/600 [==============================] - 2s 3ms/step - loss: 0.2701 - accuracy: 0.9211\n",
      "Epoch 9/10\n",
      "600/600 [==============================] - 2s 3ms/step - loss: 0.2499 - accuracy: 0.9266\n",
      "Epoch 10/10\n",
      "600/600 [==============================] - 1s 2ms/step - loss: 0.2334 - accuracy: 0.9318\n"
     ]
    },
    {
     "data": {
      "text/plain": [
       "<tensorflow.python.keras.callbacks.History at 0x158093c90>"
      ]
     },
     "execution_count": 7,
     "metadata": {},
     "output_type": "execute_result"
    }
   ],
   "source": [
    "# train the model on the training data\n",
    "# set hyperparamers\n",
    "# epochs = how often the training data is used for training\n",
    "# batch_size = how many samples of the training set are used in each epoch\n",
    "model.fit(x_train, y_train, epochs = 10,\n",
    "batch_size = 100)"
   ]
  },
  {
   "cell_type": "markdown",
   "metadata": {},
   "source": [
    "# Evaluate the model"
   ]
  },
  {
   "cell_type": "code",
   "execution_count": 8,
   "metadata": {},
   "outputs": [
    {
     "name": "stdout",
     "output_type": "stream",
     "text": [
      "100/100 [==============================] - 0s 1ms/step - loss: 0.1881 - accuracy: 0.9445\n"
     ]
    }
   ],
   "source": [
    "# use the same batch_size for comparable results\n",
    "score = model.evaluate(x_test, y_test, batch_size = 100)"
   ]
  }
 ],
 "metadata": {
  "kernelspec": {
   "display_name": "Python 3",
   "language": "python",
   "name": "python3"
  },
  "language_info": {
   "codemirror_mode": {
    "name": "ipython",
    "version": 3
   },
   "file_extension": ".py",
   "mimetype": "text/x-python",
   "name": "python",
   "nbconvert_exporter": "python",
   "pygments_lexer": "ipython3",
   "version": "3.7.6"
  }
 },
 "nbformat": 4,
 "nbformat_minor": 4
}
